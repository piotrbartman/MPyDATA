{
 "cells": [
  {
   "cell_type": "code",
   "execution_count": 1,
   "metadata": {},
   "outputs": [],
   "source": [
    "import sys, os\n",
    "if 'google.colab' in sys.modules:\n",
    "    %cd\n",
    "    % rm -rf PyMPDATA\n",
    "    ! git clone --recurse-submodules -j8 https://github.com/Michaeldz36/PyMPDATA.git\n",
    "    %cd PyMPDATA\n",
    "    ! git checkout develop\n",
    "    ! pip install -U $(cat requirements.txt | cut -d '=' -f 1)\n",
    "else:\n",
    "    sys.path.append(os.path.join(os.getcwd(), '../..'))"
   ]
  },
  {
   "cell_type": "code",
   "execution_count": 5,
   "metadata": {},
   "outputs": [],
   "source": [
    "import numpy as np\n",
    "import matplotlib.pyplot as plt\n",
    "from PyMPDATA_examples.Olesik_et_al_2020.setup import Setup, default_opt_set, option_string\n",
    "from PyMPDATA_examples.Olesik_et_al_2020.coordinates import x_id, x_p2, x_p3, x_log_of_pn\n",
    "from PyMPDATA.options import Options\n",
    "from PyMPDATA_examples.Olesik_et_al_2020.simulation import Simulation\n",
    "from PyMPDATA_examples.utils.show_plot import show_plot\n",
    "from PyMPDATA_examples.Olesik_et_al_2020.physics.equilibrium_drop_growth import PdfEvolver\n",
    "from PyMPDATA.arakawa_c.discretisation import discretised_analytical_solution\n",
    "from PyMPDATA_examples.utils.error_norms import L2, Smolarkiewicz_Grabowski_1990_eq21, modified_Smolarkiewicz_Rasch_r0\n",
    "from PyMPDATA_examples.Olesik_et_al_2020.analysis import rel_disp\n",
    "from joblib import Parallel, parallel_backend, delayed"
   ]
  },
  {
   "cell_type": "code",
   "execution_count": 6,
   "metadata": {},
   "outputs": [],
   "source": [
    "CI = 'TRAVIS' in os.environ\n",
    "GCs = np.linspace(.05,.95, 3) if CI else np.linspace(.05,.95, 7)\n",
    "nrs = np.array([2**n for n in (range(7, 10) if CI else range(7,15))], dtype=int)"
   ]
  },
  {
   "cell_type": "code",
   "execution_count": 7,
   "metadata": {},
   "outputs": [],
   "source": [
    "grid_layout = x_p2()\n",
    "psi_coord = x_p2()\n",
    "setup = Setup()"
   ]
  },
  {
   "cell_type": "code",
   "execution_count": 8,
   "metadata": {},
   "outputs": [],
   "source": [
    "const = min(np.log2(1/nrs)) - 1\n",
    "\n",
    "\n",
    "def phi(cour):\n",
    "    return cour * np.pi / 2\n",
    "\n",
    "def rho(n):\n",
    "    return np.log2(1/n) - const\n",
    "\n",
    "\n",
    "def polar_plot(nr, cour, values, name):\n",
    "    theta_array = phi(cour)\n",
    "    r_array = rho(nr)\n",
    "\n",
    "    X, Y = np.meshgrid(theta_array, r_array)\n",
    "    Z = np.array(list(values)).reshape(len(r_array), len(theta_array))\n",
    "\n",
    "    min_val = -26\n",
    "    max_val = -2\n",
    "\n",
    "    amplitude = max_val - min_val\n",
    "    if name == 'log$_2$(err)':\n",
    "        levels = np.linspace(\n",
    "            min_val,\n",
    "            max_val,\n",
    "            int(amplitude + 1)\n",
    "        )\n",
    "    else:\n",
    "        levels = 7\n",
    "\n",
    "    ax = plt.subplot(111, projection='polar')\n",
    "    cnt = ax.contourf(X, Y, Z, levels, cmap='jet')\n",
    "    plt.contour(X, Y, Z, levels, colors='black')\n",
    "    ax.scatter(X, Y, alpha=.8, s=10)\n",
    "    legend = plt.colorbar(cnt, ax=ax, pad=0.1)\n",
    "    legend.set_label(r'$log_2(Err_{L2})$', rotation=90)\n",
    "    ax.set_thetalim(min(theta_array),max(theta_array))\n",
    "    ax.set_rlim(0, max(r_array))\n",
    "    \n",
    "    ticks = r_array\n",
    "    ax.set_yticks(ticks)\n",
    "    ax.set_yticklabels(\"$2^{\" + f\"{int(-tick - const):d}\" + \"}$\" for tick in ticks)\n",
    "    \n",
    "    ax.set_thetagrids(cour * 90, tuple(f\"{c:.2g}\" for c in cour))\n",
    "    ax.grid(True)\n",
    "    ax.set_xlabel(r\"$nx$\", labelpad=18)\n",
    "    ax.annotate(r'$C$', xy=(.8, .85), xycoords='axes fraction')"
   ]
  },
  {
   "cell_type": "code",
   "execution_count": 9,
   "metadata": {},
   "outputs": [],
   "source": [
    "def analysis(setup, GC, opt):\n",
    "    options = Options(**opt)\n",
    "    simulation = Simulation(setup, grid_layout,  psi_coord, options, GC)\n",
    "    simulation.step(simulation.out_steps[-1])\n",
    "    t = simulation.out_steps[-1] * simulation.dt\n",
    "    rh = simulation.rh\n",
    "    pdf_t = PdfEvolver(setup.pdf, setup.drdt, t)\n",
    "    def pdf_arg(r):\n",
    "        return pdf_t(r* rh.units).magnitude\n",
    "    analytical = discretised_analytical_solution(\n",
    "                simulation.rh.magnitude,\n",
    "                pdf_arg, midpoint_value = True,\n",
    "                r=simulation.r.magnitude\n",
    "            ) * pdf_t(rh[0]).units\n",
    "    numerical = simulation.n_of_r\n",
    "    psi = simulation.psi\n",
    "    g_factor = simulation.g_factor\n",
    "    dp_dr = simulation.dp_dr\n",
    "    \n",
    "    maximum_numeric = np.max(numerical)\n",
    "    maximum_analytic = np.max(analytical)\n",
    "    measure_height = (maximum_numeric / maximum_analytic).magnitude\n",
    "    \n",
    "    dif = analytical-numerical\n",
    "    measure_h_2 =  (1/t * np.sqrt( 1/len(dif) * dif.dot(dif))).magnitude\n",
    "  \n",
    "    error = np.log2(Smolarkiewicz_Grabowski_1990_eq21(numerical.magnitude, analytical.magnitude, t.magnitude))\n",
    "    error_g = np.log2(Smolarkiewicz_Grabowski_1990_eq21(g_factor * psi.magnitude, g_factor * analytical.magnitude / dp_dr, t.magnitude))\n",
    "    error_r0 = np.log2(modified_Smolarkiewicz_Rasch_r0(psi.magnitude, analytical.magnitude /dp_dr, t.magnitude, g_factor))\n",
    "    return setup.nr, GC, error"
   ]
  },
  {
   "cell_type": "code",
   "execution_count": 10,
   "metadata": {
    "scrolled": false
   },
   "outputs": [
    {
     "name": "stderr",
     "output_type": "stream",
     "text": [
      "[Parallel(n_jobs=-2)]: Using backend ThreadingBackend with 7 concurrent workers.\n",
      "/usr/lib/python3/dist-packages/pint/quantity.py:1377: UnitStrippedWarning: The unit of the quantity is stripped.\n",
      "  warnings.warn(\"The unit of the quantity is stripped.\", UnitStrippedWarning)\n",
      "[Parallel(n_jobs=-2)]: Done   4 tasks      | elapsed:   18.3s\n",
      "[Parallel(n_jobs=-2)]: Done  11 tasks      | elapsed:   23.6s\n",
      "[Parallel(n_jobs=-2)]: Done  18 tasks      | elapsed:   30.5s\n",
      "[Parallel(n_jobs=-2)]: Done  27 tasks      | elapsed:   40.1s\n",
      "[Parallel(n_jobs=-2)]: Done  36 tasks      | elapsed:   55.8s\n",
      "[Parallel(n_jobs=-2)]: Done  49 out of  56 | elapsed:  1.4min remaining:   12.3s\n",
      "[Parallel(n_jobs=-2)]: Done  56 out of  56 | elapsed:  2.3min finished\n",
      "<ipython-input-8-7ec00f8c6b2b>:33: UserWarning: The following kwargs were not used by contour: 'linewidth'\n",
      "  plt.contour(X, Y, Z, levels, colors='black', linewidth=.3)\n"
     ]
    },
    {
     "name": "stdout",
     "output_type": "stream",
     "text": [
      "upwind\n"
     ]
    },
    {
     "data": {
      "application/vnd.jupyter.widget-view+json": {
       "model_id": "21598897f29048e1bf71e450dfeb0f1c",
       "version_major": 2,
       "version_minor": 0
      },
      "text/plain": [
       "VBox(children=(Output(), HTML(value=\"<a href='../utils/output/convergence_log$_2$(err)_upwind.pdf' target='_bl…"
      ]
     },
     "metadata": {},
     "output_type": "display_data"
    },
    {
     "name": "stderr",
     "output_type": "stream",
     "text": [
      "[Parallel(n_jobs=-2)]: Using backend ThreadingBackend with 7 concurrent workers.\n",
      "/usr/lib/python3/dist-packages/pint/quantity.py:1377: UnitStrippedWarning: The unit of the quantity is stripped.\n",
      "  warnings.warn(\"The unit of the quantity is stripped.\", UnitStrippedWarning)\n",
      "[Parallel(n_jobs=-2)]: Done   4 tasks      | elapsed:   20.4s\n",
      "[Parallel(n_jobs=-2)]: Done  11 tasks      | elapsed:   25.8s\n",
      "[Parallel(n_jobs=-2)]: Done  18 tasks      | elapsed:   33.2s\n",
      "[Parallel(n_jobs=-2)]: Done  27 tasks      | elapsed:   43.9s\n",
      "[Parallel(n_jobs=-2)]: Done  36 tasks      | elapsed:  1.0min\n",
      "[Parallel(n_jobs=-2)]: Done  49 out of  56 | elapsed:  1.6min remaining:   13.3s\n"
     ]
    },
    {
     "name": "stdout",
     "output_type": "stream",
     "text": [
      "MPDATA 2 iterations\n"
     ]
    },
    {
     "name": "stderr",
     "output_type": "stream",
     "text": [
      "[Parallel(n_jobs=-2)]: Done  56 out of  56 | elapsed:  2.4min finished\n",
      "<ipython-input-8-7ec00f8c6b2b>:33: UserWarning: The following kwargs were not used by contour: 'linewidth'\n",
      "  plt.contour(X, Y, Z, levels, colors='black', linewidth=.3)\n"
     ]
    },
    {
     "data": {
      "application/vnd.jupyter.widget-view+json": {
       "model_id": "bfd1fa99b35345f7b78fc3d383325483",
       "version_major": 2,
       "version_minor": 0
      },
      "text/plain": [
       "VBox(children=(Output(), HTML(value=\"<a href='../utils/output/convergence_log$_2$(err)_MPDATA 2 iterations.pdf…"
      ]
     },
     "metadata": {},
     "output_type": "display_data"
    },
    {
     "name": "stderr",
     "output_type": "stream",
     "text": [
      "[Parallel(n_jobs=-2)]: Using backend ThreadingBackend with 7 concurrent workers.\n",
      "/usr/lib/python3/dist-packages/pint/quantity.py:1377: UnitStrippedWarning: The unit of the quantity is stripped.\n",
      "  warnings.warn(\"The unit of the quantity is stripped.\", UnitStrippedWarning)\n",
      "[Parallel(n_jobs=-2)]: Done   4 tasks      | elapsed:   21.9s\n",
      "[Parallel(n_jobs=-2)]: Done  11 tasks      | elapsed:   27.6s\n",
      "[Parallel(n_jobs=-2)]: Done  18 tasks      | elapsed:   35.6s\n",
      "[Parallel(n_jobs=-2)]: Done  27 tasks      | elapsed:   46.7s\n",
      "[Parallel(n_jobs=-2)]: Done  36 tasks      | elapsed:  1.1min\n",
      "[Parallel(n_jobs=-2)]: Done  49 out of  56 | elapsed:  1.5min remaining:   13.2s\n",
      "[Parallel(n_jobs=-2)]: Done  56 out of  56 | elapsed:  2.4min finished\n"
     ]
    },
    {
     "name": "stdout",
     "output_type": "stream",
     "text": [
      "MPDATA 2 iterations infinite gauge\n"
     ]
    },
    {
     "name": "stderr",
     "output_type": "stream",
     "text": [
      "<ipython-input-8-7ec00f8c6b2b>:33: UserWarning: The following kwargs were not used by contour: 'linewidth'\n",
      "  plt.contour(X, Y, Z, levels, colors='black', linewidth=.3)\n"
     ]
    },
    {
     "data": {
      "application/vnd.jupyter.widget-view+json": {
       "model_id": "1d7decca409342d2b8e27c03c39cb0fb",
       "version_major": 2,
       "version_minor": 0
      },
      "text/plain": [
       "VBox(children=(Output(), HTML(value=\"<a href='../utils/output/convergence_log$_2$(err)_MPDATA 2 iterations inf…"
      ]
     },
     "metadata": {},
     "output_type": "display_data"
    },
    {
     "name": "stderr",
     "output_type": "stream",
     "text": [
      "[Parallel(n_jobs=-2)]: Using backend ThreadingBackend with 7 concurrent workers.\n",
      "/usr/lib/python3/dist-packages/pint/quantity.py:1377: UnitStrippedWarning: The unit of the quantity is stripped.\n",
      "  warnings.warn(\"The unit of the quantity is stripped.\", UnitStrippedWarning)\n",
      "[Parallel(n_jobs=-2)]: Done   4 tasks      | elapsed:   37.7s\n",
      "[Parallel(n_jobs=-2)]: Done  11 tasks      | elapsed:   45.6s\n",
      "[Parallel(n_jobs=-2)]: Done  18 tasks      | elapsed:   54.2s\n",
      "[Parallel(n_jobs=-2)]: Done  27 tasks      | elapsed:  1.1min\n",
      "[Parallel(n_jobs=-2)]: Done  36 tasks      | elapsed:  1.4min\n",
      "[Parallel(n_jobs=-2)]: Done  49 out of  56 | elapsed:  2.0min remaining:   16.9s\n",
      "[Parallel(n_jobs=-2)]: Done  56 out of  56 | elapsed:  2.9min finished\n"
     ]
    },
    {
     "name": "stdout",
     "output_type": "stream",
     "text": [
      "MPDATA 2 iterations infinite gauge non-oscillatory\n"
     ]
    },
    {
     "name": "stderr",
     "output_type": "stream",
     "text": [
      "<ipython-input-8-7ec00f8c6b2b>:33: UserWarning: The following kwargs were not used by contour: 'linewidth'\n",
      "  plt.contour(X, Y, Z, levels, colors='black', linewidth=.3)\n"
     ]
    },
    {
     "data": {
      "application/vnd.jupyter.widget-view+json": {
       "model_id": "9d36cc617bbf42f185a2f384c7be22bc",
       "version_major": 2,
       "version_minor": 0
      },
      "text/plain": [
       "VBox(children=(Output(), HTML(value=\"<a href='../utils/output/convergence_log$_2$(err)_MPDATA 2 iterations inf…"
      ]
     },
     "metadata": {},
     "output_type": "display_data"
    },
    {
     "name": "stderr",
     "output_type": "stream",
     "text": [
      "[Parallel(n_jobs=-2)]: Using backend ThreadingBackend with 7 concurrent workers.\n",
      "/usr/lib/python3/dist-packages/pint/quantity.py:1377: UnitStrippedWarning: The unit of the quantity is stripped.\n",
      "  warnings.warn(\"The unit of the quantity is stripped.\", UnitStrippedWarning)\n",
      "[Parallel(n_jobs=-2)]: Done   4 tasks      | elapsed:   35.1s\n",
      "[Parallel(n_jobs=-2)]: Done  11 tasks      | elapsed:   41.1s\n",
      "[Parallel(n_jobs=-2)]: Done  18 tasks      | elapsed:   49.3s\n",
      "[Parallel(n_jobs=-2)]: Done  27 tasks      | elapsed:   59.9s\n",
      "[Parallel(n_jobs=-2)]: Done  36 tasks      | elapsed:  1.4min\n",
      "[Parallel(n_jobs=-2)]: Done  49 out of  56 | elapsed:  1.9min remaining:   16.7s\n",
      "[Parallel(n_jobs=-2)]: Done  56 out of  56 | elapsed:  2.9min finished\n"
     ]
    },
    {
     "name": "stdout",
     "output_type": "stream",
     "text": [
      "MPDATA 2 iterations DPDC infinite gauge non-oscillatory\n"
     ]
    },
    {
     "name": "stderr",
     "output_type": "stream",
     "text": [
      "<ipython-input-8-7ec00f8c6b2b>:33: UserWarning: The following kwargs were not used by contour: 'linewidth'\n",
      "  plt.contour(X, Y, Z, levels, colors='black', linewidth=.3)\n"
     ]
    },
    {
     "data": {
      "application/vnd.jupyter.widget-view+json": {
       "model_id": "c7e49036362c4a1eb3da422bc1c7b71b",
       "version_major": 2,
       "version_minor": 0
      },
      "text/plain": [
       "VBox(children=(Output(), HTML(value=\"<a href='../utils/output/convergence_log$_2$(err)_MPDATA 2 iterations DPD…"
      ]
     },
     "metadata": {},
     "output_type": "display_data"
    },
    {
     "name": "stderr",
     "output_type": "stream",
     "text": [
      "[Parallel(n_jobs=-2)]: Using backend ThreadingBackend with 7 concurrent workers.\n",
      "/usr/lib/python3/dist-packages/pint/quantity.py:1377: UnitStrippedWarning: The unit of the quantity is stripped.\n",
      "  warnings.warn(\"The unit of the quantity is stripped.\", UnitStrippedWarning)\n",
      "[Parallel(n_jobs=-2)]: Done   4 tasks      | elapsed:   23.5s\n",
      "[Parallel(n_jobs=-2)]: Done  11 tasks      | elapsed:   29.1s\n",
      "[Parallel(n_jobs=-2)]: Done  18 tasks      | elapsed:   37.1s\n",
      "[Parallel(n_jobs=-2)]: Done  27 tasks      | elapsed:   47.9s\n",
      "[Parallel(n_jobs=-2)]: Done  36 tasks      | elapsed:  1.1min\n",
      "[Parallel(n_jobs=-2)]: Done  49 out of  56 | elapsed:  1.6min remaining:   13.7s\n",
      "[Parallel(n_jobs=-2)]: Done  56 out of  56 | elapsed:  2.5min finished\n"
     ]
    },
    {
     "name": "stdout",
     "output_type": "stream",
     "text": [
      "MPDATA 3 iterations third order terms\n"
     ]
    },
    {
     "name": "stderr",
     "output_type": "stream",
     "text": [
      "<ipython-input-8-7ec00f8c6b2b>:33: UserWarning: The following kwargs were not used by contour: 'linewidth'\n",
      "  plt.contour(X, Y, Z, levels, colors='black', linewidth=.3)\n"
     ]
    },
    {
     "data": {
      "application/vnd.jupyter.widget-view+json": {
       "model_id": "4650117355e74ddcb6b67bb2223d6f1c",
       "version_major": 2,
       "version_minor": 0
      },
      "text/plain": [
       "VBox(children=(Output(), HTML(value=\"<a href='../utils/output/convergence_log$_2$(err)_MPDATA 3 iterations thi…"
      ]
     },
     "metadata": {},
     "output_type": "display_data"
    },
    {
     "name": "stderr",
     "output_type": "stream",
     "text": [
      "[Parallel(n_jobs=-2)]: Using backend ThreadingBackend with 7 concurrent workers.\n",
      "/usr/lib/python3/dist-packages/pint/quantity.py:1377: UnitStrippedWarning: The unit of the quantity is stripped.\n",
      "  warnings.warn(\"The unit of the quantity is stripped.\", UnitStrippedWarning)\n",
      "[Parallel(n_jobs=-2)]: Done   4 tasks      | elapsed:   22.9s\n",
      "[Parallel(n_jobs=-2)]: Done  11 tasks      | elapsed:   28.9s\n",
      "[Parallel(n_jobs=-2)]: Done  18 tasks      | elapsed:   36.9s\n",
      "[Parallel(n_jobs=-2)]: Done  27 tasks      | elapsed:   46.6s\n",
      "[Parallel(n_jobs=-2)]: Done  36 tasks      | elapsed:  1.1min\n",
      "[Parallel(n_jobs=-2)]: Done  49 out of  56 | elapsed:  1.6min remaining:   13.4s\n",
      "[Parallel(n_jobs=-2)]: Done  56 out of  56 | elapsed:  2.5min finished\n"
     ]
    },
    {
     "name": "stdout",
     "output_type": "stream",
     "text": [
      "MPDATA 3 iterations\n"
     ]
    },
    {
     "name": "stderr",
     "output_type": "stream",
     "text": [
      "<ipython-input-8-7ec00f8c6b2b>:33: UserWarning: The following kwargs were not used by contour: 'linewidth'\n",
      "  plt.contour(X, Y, Z, levels, colors='black', linewidth=.3)\n"
     ]
    },
    {
     "data": {
      "application/vnd.jupyter.widget-view+json": {
       "model_id": "52d23e33337643d2ad640ee5b9e8c27a",
       "version_major": 2,
       "version_minor": 0
      },
      "text/plain": [
       "VBox(children=(Output(), HTML(value=\"<a href='../utils/output/convergence_log$_2$(err)_MPDATA 3 iterations.pdf…"
      ]
     },
     "metadata": {},
     "output_type": "display_data"
    },
    {
     "name": "stderr",
     "output_type": "stream",
     "text": [
      "[Parallel(n_jobs=-2)]: Using backend ThreadingBackend with 7 concurrent workers.\n",
      "/usr/lib/python3/dist-packages/pint/quantity.py:1377: UnitStrippedWarning: The unit of the quantity is stripped.\n",
      "  warnings.warn(\"The unit of the quantity is stripped.\", UnitStrippedWarning)\n",
      "[Parallel(n_jobs=-2)]: Done   4 tasks      | elapsed:   27.5s\n",
      "[Parallel(n_jobs=-2)]: Done  11 tasks      | elapsed:   32.7s\n",
      "[Parallel(n_jobs=-2)]: Done  18 tasks      | elapsed:   39.9s\n",
      "[Parallel(n_jobs=-2)]: Done  27 tasks      | elapsed:   49.9s\n",
      "[Parallel(n_jobs=-2)]: Done  36 tasks      | elapsed:  1.1min\n",
      "[Parallel(n_jobs=-2)]: Done  49 out of  56 | elapsed:  1.6min remaining:   13.5s\n",
      "[Parallel(n_jobs=-2)]: Done  56 out of  56 | elapsed:  2.5min finished\n"
     ]
    },
    {
     "name": "stdout",
     "output_type": "stream",
     "text": [
      "MPDATA 3 iterations third order terms infinite gauge non-oscillatory\n"
     ]
    },
    {
     "name": "stderr",
     "output_type": "stream",
     "text": [
      "<ipython-input-8-7ec00f8c6b2b>:33: UserWarning: The following kwargs were not used by contour: 'linewidth'\n",
      "  plt.contour(X, Y, Z, levels, colors='black', linewidth=.3)\n"
     ]
    },
    {
     "data": {
      "application/vnd.jupyter.widget-view+json": {
       "model_id": "a5266cf866a34099b0d2d5b8f02619ad",
       "version_major": 2,
       "version_minor": 0
      },
      "text/plain": [
       "VBox(children=(Output(), HTML(value=\"<a href='../utils/output/convergence_log$_2$(err)_MPDATA 3 iterations thi…"
      ]
     },
     "metadata": {},
     "output_type": "display_data"
    }
   ],
   "source": [
    "for opt in default_opt_set.values():\n",
    "    with parallel_backend('threading', n_jobs=-2):\n",
    "        results0 = Parallel(verbose=10)(\n",
    "            delayed(analysis)(Setup(nr = nr, mixing_ratios_g_kg = [1.05,]), GC, opt)\n",
    "            for nr in nrs\n",
    "            for GC in GCs\n",
    "        )\n",
    "    results = tuple(tuple(i) for i in zip(*results0))\n",
    "    plot_setup = np.array(results[0:2])\n",
    "    measures = {'log$_2$(err)':results[2]}\n",
    "    opt=option_string(str(opt))\n",
    "    print(opt)\n",
    "    for measure in measures.keys():\n",
    "        polar_plot(nrs, GCs, measures[measure], name = measure)\n",
    "        show_plot(filename = f'convergence_{measure}_{opt}.pdf')"
   ]
  },
  {
   "cell_type": "code",
   "execution_count": null,
   "metadata": {},
   "outputs": [],
   "source": []
  },
  {
   "cell_type": "code",
   "execution_count": null,
   "metadata": {},
   "outputs": [],
   "source": []
  },
  {
   "cell_type": "code",
   "execution_count": null,
   "metadata": {},
   "outputs": [],
   "source": []
  }
 ],
 "metadata": {
  "kernelspec": {
   "display_name": "Python 3",
   "language": "python",
   "name": "python3"
  },
  "language_info": {
   "codemirror_mode": {
    "name": "ipython",
    "version": 3
   },
   "file_extension": ".py",
   "mimetype": "text/x-python",
   "name": "python",
   "nbconvert_exporter": "python",
   "pygments_lexer": "ipython3",
   "version": "3.8.2"
  },
  "pycharm": {
   "stem_cell": {
    "cell_type": "raw",
    "metadata": {
     "collapsed": false
    },
    "source": []
   }
  }
 },
 "nbformat": 4,
 "nbformat_minor": 4
}
