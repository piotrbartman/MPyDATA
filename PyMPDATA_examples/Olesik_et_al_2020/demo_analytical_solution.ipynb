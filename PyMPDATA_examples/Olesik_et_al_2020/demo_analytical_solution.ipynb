{
 "cells": [
  {
   "cell_type": "code",
   "execution_count": 5,
   "metadata": {},
   "outputs": [],
   "source": [
    "import numpy as np\n",
    "from matplotlib import pyplot\n",
    "from scipy import optimize, integrate\n",
    "import warnings\n",
    "warnings.filterwarnings('ignore')\n",
    "import pint, math\n",
    "si = pint.UnitRegistry()\n",
    "si.setup_matplotlib()\n",
    "t_unit = si.s\n",
    "r_unit = si.um\n",
    "p_unit = r_unit **2\n",
    "n_unit = si.cm ** -3 / r_unit\n",
    "def mgn(quantity, unit):\n",
    "    return quantity.to(unit).magnitude"
   ]
  },
  {
   "cell_type": "code",
   "execution_count": 6,
   "metadata": {},
   "outputs": [],
   "source": [
    "rho_w = 1 * si.kg / si.dm ** 3\n",
    "rho_a = 1 * si.kg / si.m ** 3\n",
    "\n",
    "r_min = 1 * si.um\n",
    "r_max = 25 * si.um\n",
    "nr = 100\n",
    "mixing_ratios = np.array([1, 4,10])\n",
    "\n",
    "ksi_0 = 100 * si.um ** 2 / si.s\n",
    "S = 1.00075\n",
    "ksi = (S - 1)* ksi_0\n",
    "drdt = lambda r: ksi / r  \n",
    "\n",
    "unnormalised_pdf = lambda r:  (\n",
    "                (700 / si.cm**3 * si.um) / r *\n",
    "                np.exp(- 22 * (np.log10(r / (7 * si.um)) ** 2)) *\n",
    "                (1 / si.um))\n",
    "def mixing_ratio(arg):\n",
    "    r_min = .1 * si.um\n",
    "    while not np.isfinite(arg(r_min).magnitude):\n",
    "        r_min *= 1.01\n",
    "    def pdfarg(r_nounit):\n",
    "        r = r_nounit * r_unit\n",
    "        result = arg(r) * r ** 3\n",
    "        return result.to(n_unit * r_unit ** 3).magnitude\n",
    "    I = integrate.quad(pdfarg,\n",
    "                       r_min.to(r_unit).magnitude,\n",
    "                       np.inf\n",
    "                       )[0] * n_unit * r_unit ** 4\n",
    "    return (I * 4 / 3 * np.pi * rho_w / rho_a).to(si.g / si.kg)\n",
    "norm = (1 * si.g / si.kg) / mixing_ratio(unnormalised_pdf)\n",
    "def pdf(r):\n",
    "    return unnormalised_pdf(r) * norm\n",
    "\n",
    "def pdfevolver(pdf, drdt,t):\n",
    "    pdf_t = lambda r: r /  np.sqrt(r ** 2 - 2 * ksi * t) * pdf(np.sqrt(r ** 2 - 2 * ksi * t))\n",
    "    return pdf_t\n",
    "\n",
    "out_times = []\n",
    "for mr in mixing_ratios * si.g / si.kg:\n",
    "    def findroot(ti):\n",
    "        return (mr - mixing_ratio(pdfevolver(pdf, drdt, ti * t_unit))).magnitude\n",
    "    t_unit = si.second\n",
    "    t = optimize.brentq(findroot, 0, (1 * si.hour).to(t_unit).magnitude)\n",
    "    out_times.append(t)"
   ]
  },
  {
   "cell_type": "code",
   "execution_count": 7,
   "metadata": {},
   "outputs": [],
   "source": [
    "def calculate_dt(r_min, r_max, pdf_of_r, drdt_of_r):            \n",
    "        dp_dr = lambda r: 2*r\n",
    "        xh, dx = np.linspace(\n",
    "            np.log(r_min**3) / np.log(np.e),\n",
    "            np.log(r_max**3) / np.log(np.e),\n",
    "            nr + 1,\n",
    "            retstep=True\n",
    "        )\n",
    "        rh = np.e**(xh/3)\n",
    "        dp_dt = drdt_of_r(rh) * dp_dr(rh)\n",
    "        dt = 0.9 * dx / np.amax(dp_dt)        \n",
    "        return dt\n",
    "dt = calculate_dt(\n",
    "            mgn(r_min, r_unit),\n",
    "            mgn(r_max, r_unit),\n",
    "            lambda r: mgn(pdf(r * r_unit), n_unit),\n",
    "            lambda r: mgn(drdt(r * r_unit), r_unit / t_unit)\n",
    "        ) \n",
    "out_steps = tuple([math.ceil(t/dt) for t in out_times])\n",
    "dt*= t_unit"
   ]
  },
  {
   "cell_type": "code",
   "execution_count": 8,
   "metadata": {},
   "outputs": [
    {
     "name": "stdout",
     "output_type": "stream",
     "text": [
      "T = 0.0 second\n",
      "T = 745.1053759404627 second\n",
      "T = 1749.7808983982873 second\n"
     ]
    },
    {
     "data": {
      "image/png": "[encoded data removed]",
      "text/plain": [
       "<Figure size 720x432 with 1 Axes>"
      ]
     },
     "metadata": {
      "needs_background": "light"
     },
     "output_type": "display_data"
    }
   ],
   "source": [
    "x = np.linspace(\n",
    "            r_min.magnitude,\n",
    "            r_max.magnitude,\n",
    "            512\n",
    "        ) *r_unit\n",
    "\n",
    "fig, axs = pyplot.subplots(1, 1, figsize=(10,6))\n",
    "axs.yaxis.set_units(1 / si.um / si.cm ** 3)\n",
    "axs.xaxis.set_units(si.um)\n",
    "axs.grid()\n",
    "axs.set_title('$dN/dr$')\n",
    "for i in range(len(out_steps)):\n",
    "    t = out_steps[i] * dt\n",
    "    print('T =', t)\n",
    "    pdf_t = pdfevolver(pdf, drdt, t)\n",
    "    y = pdf_t(x)\n",
    "    axs.plot(x, y, color='red')\n",
    "pyplot.show()"
   ]
  },
  {
   "cell_type": "code",
   "execution_count": null,
   "metadata": {},
   "outputs": [],
   "source": []
  }
 ],
 "metadata": {
  "kernelspec": {
   "display_name": "Python 3",
   "language": "python",
   "name": "python3"
  },
  "language_info": {
   "codemirror_mode": {
    "name": "ipython",
    "version": 3
   },
   "file_extension": ".py",
   "mimetype": "text/x-python",
   "name": "python",
   "nbconvert_exporter": "python",
   "pygments_lexer": "ipython3",
   "version": "3.7.6"
  }
 },
 "nbformat": 4,
 "nbformat_minor": 4
}
